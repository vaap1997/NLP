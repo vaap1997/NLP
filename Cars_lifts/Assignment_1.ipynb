{
 "cells": [
  {
   "cell_type": "markdown",
   "metadata": {},
   "source": [
    "### TEAM MEMBERS\n",
    "\n",
    "- Rafain Rodriguez\n",
    "- Vanesa Alcantara\n",
    "- Alfredo Sandoval\n",
    "- Raffaele Mannarelli\n",
    "- Nicolas Rey"
   ]
  },
  {
   "cell_type": "code",
   "execution_count": null,
   "metadata": {},
   "outputs": [],
   "source": [
    "!pip install selenium"
   ]
  },
  {
   "cell_type": "code",
   "execution_count": 1,
   "metadata": {},
   "outputs": [
    {
     "name": "stderr",
     "output_type": "stream",
     "text": [
      "/Users/vanesaalcantara/opt/anaconda3/lib/python3.8/site-packages/pandas/core/computation/expressions.py:20: UserWarning: Pandas requires version '2.7.3' or newer of 'numexpr' (version '2.7.1' currently installed).\n",
      "  from pandas.core.computation.check import NUMEXPR_INSTALLED\n"
     ]
    }
   ],
   "source": [
    "from selenium import webdriver\n",
    "from selenium.webdriver.support.ui import WebDriverWait\n",
    "import pandas as pd"
   ]
  },
  {
   "cell_type": "code",
   "execution_count": 2,
   "metadata": {},
   "outputs": [
    {
     "name": "stdout",
     "output_type": "stream",
     "text": [
      "page: 435, number of comments: 33\n",
      "page: 434, number of comments: 83\n",
      "page: 433, number of comments: 133\n",
      "page: 432, number of comments: 183\n",
      "page: 431, number of comments: 233\n",
      "page: 430, number of comments: 283\n",
      "page: 429, number of comments: 333\n",
      "page: 428, number of comments: 383\n",
      "page: 427, number of comments: 433\n",
      "page: 426, number of comments: 483\n",
      "page: 425, number of comments: 533\n",
      "page: 424, number of comments: 583\n",
      "page: 423, number of comments: 633\n",
      "page: 422, number of comments: 683\n",
      "page: 421, number of comments: 733\n",
      "page: 420, number of comments: 783\n",
      "page: 419, number of comments: 833\n",
      "page: 418, number of comments: 883\n",
      "page: 417, number of comments: 933\n",
      "page: 416, number of comments: 983\n",
      "page: 415, number of comments: 1033\n",
      "page: 414, number of comments: 1083\n",
      "page: 413, number of comments: 1133\n",
      "page: 412, number of comments: 1183\n",
      "page: 411, number of comments: 1233\n",
      "page: 410, number of comments: 1283\n",
      "page: 409, number of comments: 1333\n",
      "page: 408, number of comments: 1383\n",
      "page: 407, number of comments: 1433\n",
      "page: 406, number of comments: 1483\n",
      "page: 405, number of comments: 1533\n",
      "page: 404, number of comments: 1583\n",
      "page: 403, number of comments: 1633\n",
      "page: 402, number of comments: 1683\n",
      "page: 401, number of comments: 1733\n",
      "page: 400, number of comments: 1783\n",
      "page: 399, number of comments: 1833\n",
      "page: 398, number of comments: 1883\n",
      "page: 397, number of comments: 1933\n",
      "page: 396, number of comments: 1983\n",
      "page: 395, number of comments: 2033\n",
      "page: 394, number of comments: 2083\n",
      "page: 393, number of comments: 2133\n",
      "page: 392, number of comments: 2183\n",
      "page: 391, number of comments: 2233\n",
      "page: 390, number of comments: 2283\n",
      "page: 389, number of comments: 2333\n",
      "page: 388, number of comments: 2383\n",
      "page: 387, number of comments: 2433\n",
      "page: 386, number of comments: 2483\n",
      "page: 385, number of comments: 2533\n",
      "page: 384, number of comments: 2583\n",
      "page: 383, number of comments: 2633\n",
      "page: 382, number of comments: 2683\n",
      "page: 381, number of comments: 2733\n",
      "page: 380, number of comments: 2783\n",
      "page: 379, number of comments: 2833\n",
      "page: 378, number of comments: 2883\n",
      "page: 377, number of comments: 2933\n",
      "page: 376, number of comments: 2983\n",
      "page: 375, number of comments: 3033\n",
      "page: 374, number of comments: 3083\n",
      "page: 373, number of comments: 3133\n",
      "page: 372, number of comments: 3183\n",
      "page: 371, number of comments: 3233\n",
      "page: 370, number of comments: 3283\n",
      "page: 369, number of comments: 3333\n",
      "page: 368, number of comments: 3383\n",
      "page: 367, number of comments: 3433\n",
      "page: 366, number of comments: 3483\n",
      "page: 365, number of comments: 3533\n",
      "page: 364, number of comments: 3583\n",
      "page: 363, number of comments: 3633\n",
      "page: 362, number of comments: 3683\n",
      "page: 361, number of comments: 3733\n",
      "page: 360, number of comments: 3783\n",
      "page: 359, number of comments: 3833\n",
      "page: 358, number of comments: 3883\n",
      "page: 357, number of comments: 3933\n",
      "page: 356, number of comments: 3983\n",
      "page: 355, number of comments: 4033\n",
      "page: 354, number of comments: 4083\n",
      "page: 353, number of comments: 4133\n",
      "page: 352, number of comments: 4183\n",
      "page: 351, number of comments: 4233\n",
      "page: 350, number of comments: 4283\n",
      "page: 349, number of comments: 4333\n",
      "page: 348, number of comments: 4383\n",
      "page: 347, number of comments: 4433\n",
      "page: 346, number of comments: 4483\n",
      "page: 345, number of comments: 4533\n",
      "page: 344, number of comments: 4583\n",
      "page: 343, number of comments: 4633\n",
      "page: 342, number of comments: 4683\n",
      "page: 341, number of comments: 4733\n",
      "page: 340, number of comments: 4783\n",
      "page: 339, number of comments: 4833\n",
      "page: 338, number of comments: 4883\n",
      "page: 337, number of comments: 4933\n",
      "page: 336, number of comments: 4983\n",
      "page: 335, number of comments: 5033\n"
     ]
    }
   ],
   "source": [
    "total = 5000\n",
    "current_page = 435\n",
    "dates = []\n",
    "messages = []\n",
    "pages = []\n",
    "\n",
    "driver = webdriver.Safari()\n",
    "\n",
    "while len(messages)<total:\n",
    "    URL = 'https://forums.edmunds.com/discussion/2864/general/x/entry-level-luxury-performance-sedans/p'+str(current_page)    \n",
    "    driver.implicitly_wait(6)\n",
    "    driver.get(URL)\n",
    "    comments = driver.find_elements_by_xpath(\".//div[@class='DataBox DataBox-Comments']/ul/li\")\n",
    "    for item in comments:\n",
    "        date = item.find_element_by_xpath(\".//div[@class='Comment']/div[@class='Item-Header CommentHeader']/div[@class='Meta CommentMeta CommentInfo']/span/a/time\").get_attribute(\"datetime\")\n",
    "        message = item.find_element_by_xpath(\".//div[@class='Comment']/div[@class='Item-BodyWrap']/div[@class='Item-Body']/div[@class='Message userContent']\")\n",
    "        message = message.text.strip().split('\\n')[-1]\n",
    "        dates += [date]\n",
    "        messages += [message]\n",
    "        pages += [current_page]\n",
    "    print(f\"page: {current_page}, number of comments: {len(messages)}\")\n",
    "    current_page -= 1\n",
    "    \n",
    "driver.quit()"
   ]
  },
  {
   "cell_type": "code",
   "execution_count": 4,
   "metadata": {},
   "outputs": [],
   "source": [
    "total_csv = pd.DataFrame()\n",
    "total_csv['page'] = pages\n",
    "total_csv['date'] = pd.to_datetime(dates)\n",
    "total_csv['message'] = messages\n",
    "total_csv['message'] = total_csv['message'].str.lower()\n",
    "total_csv.to_csv('messages_edmunds.csv')\n",
    "\n"
   ]
  },
  {
   "cell_type": "code",
   "execution_count": 1,
   "metadata": {
    "colab": {
     "base_uri": "https://localhost:8080/",
     "height": 39
    },
    "executionInfo": {
     "elapsed": 27278,
     "status": "ok",
     "timestamp": 1694388012288,
     "user": {
      "displayName": "Vanesa Alcantara",
      "userId": "00966359572197690684"
     },
     "user_tz": 300
    },
    "id": "i8X-s46ztM-v",
    "outputId": "b677b3ab-3962-4c92-ccc1-e2bcddaa9f8f"
   },
   "outputs": [
    {
     "name": "stderr",
     "output_type": "stream",
     "text": [
      "/Users/vanesaalcantara/opt/anaconda3/lib/python3.8/site-packages/pandas/core/computation/expressions.py:20: UserWarning: Pandas requires version '2.7.3' or newer of 'numexpr' (version '2.7.1' currently installed).\n",
      "  from pandas.core.computation.check import NUMEXPR_INSTALLED\n",
      "/Users/vanesaalcantara/opt/anaconda3/lib/python3.8/site-packages/scipy/__init__.py:146: UserWarning: A NumPy version >=1.16.5 and <1.23.0 is required for this version of SciPy (detected version 1.24.4\n",
      "  warnings.warn(f\"A NumPy version >={np_minversion} and <{np_maxversion}\"\n",
      "/Users/vanesaalcantara/opt/anaconda3/lib/python3.8/site-packages/statsmodels/compat/pandas.py:65: FutureWarning: pandas.Int64Index is deprecated and will be removed from pandas in a future version. Use pandas.Index with the appropriate dtype instead.\n",
      "  from pandas import Int64Index as NumericIndex\n"
     ]
    }
   ],
   "source": [
    "import pandas as pd\n",
    "import nltk\n",
    "from nltk.corpus import stopwords\n",
    "from collections import Counter\n",
    "\n",
    "import statsmodels.api as sm\n",
    "import numpy as np\n",
    "import pandas as pd\n",
    "import scipy.stats as ss\n",
    "import math\n",
    "\n",
    "import matplotlib.pyplot as plt\n",
    "from sklearn.manifold import MDS\n",
    "import seaborn as sns\n"
   ]
  },
  {
   "cell_type": "markdown",
   "metadata": {
    "id": "q1XklMvIskhP"
   },
   "source": [
    "**Task A: Once you fetch the data, test if the data support Zipf’s law econometrically. Additionally plot the most common 100 words in the data against the theoretical prediction of the law. For this question, do not remove stopwords. Also do not perform stemming or lemmatization.\n",
    "Check http://www.garysieling.com/blog/exploring-zipfs-law-with-python-nltk-scipy-and-matplotlib\n",
    "(Note that the above link does NOT test Zipf’s law econometrically)**\n"
   ]
  },
  {
   "cell_type": "code",
   "execution_count": 2,
   "metadata": {
    "colab": {
     "base_uri": "https://localhost:8080/",
     "height": 1000
    },
    "executionInfo": {
     "elapsed": 826,
     "status": "ok",
     "timestamp": 1694388808300,
     "user": {
      "displayName": "Vanesa Alcantara",
      "userId": "00966359572197690684"
     },
     "user_tz": 300
    },
    "id": "hmUsZAiLtMb7",
    "outputId": "35cc50fe-4a2d-4504-d433-97f0ac25a3cb"
   },
   "outputs": [
    {
     "data": {
      "text/html": [
       "<table class=\"simpletable\">\n",
       "<caption>OLS Regression Results</caption>\n",
       "<tr>\n",
       "  <th>Dep. Variable:</th>            <td>y</td>        <th>  R-squared:         </th> <td>   0.943</td> \n",
       "</tr>\n",
       "<tr>\n",
       "  <th>Model:</th>                   <td>OLS</td>       <th>  Adj. R-squared:    </th> <td>   0.943</td> \n",
       "</tr>\n",
       "<tr>\n",
       "  <th>Method:</th>             <td>Least Squares</td>  <th>  F-statistic:       </th> <td>6.505e+05</td>\n",
       "</tr>\n",
       "<tr>\n",
       "  <th>Date:</th>             <td>Mon, 11 Sep 2023</td> <th>  Prob (F-statistic):</th>  <td>  0.00</td>  \n",
       "</tr>\n",
       "<tr>\n",
       "  <th>Time:</th>                 <td>23:41:49</td>     <th>  Log-Likelihood:    </th> <td> -1683.1</td> \n",
       "</tr>\n",
       "<tr>\n",
       "  <th>No. Observations:</th>      <td> 39162</td>      <th>  AIC:               </th> <td>   3370.</td> \n",
       "</tr>\n",
       "<tr>\n",
       "  <th>Df Residuals:</th>          <td> 39160</td>      <th>  BIC:               </th> <td>   3387.</td> \n",
       "</tr>\n",
       "<tr>\n",
       "  <th>Df Model:</th>              <td>     1</td>      <th>                     </th>     <td> </td>    \n",
       "</tr>\n",
       "<tr>\n",
       "  <th>Covariance Type:</th>      <td>nonrobust</td>    <th>                     </th>     <td> </td>    \n",
       "</tr>\n",
       "</table>\n",
       "<table class=\"simpletable\">\n",
       "<tr>\n",
       "    <td></td>       <th>coef</th>     <th>std err</th>      <th>t</th>      <th>P>|t|</th>  <th>[0.025</th>    <th>0.975]</th>  \n",
       "</tr>\n",
       "<tr>\n",
       "  <th>const</th> <td>   10.4698</td> <td>    0.012</td> <td>  851.244</td> <td> 0.000</td> <td>   10.446</td> <td>   10.494</td>\n",
       "</tr>\n",
       "<tr>\n",
       "  <th>x1</th>    <td>   -1.0304</td> <td>    0.001</td> <td> -806.546</td> <td> 0.000</td> <td>   -1.033</td> <td>   -1.028</td>\n",
       "</tr>\n",
       "</table>\n",
       "<table class=\"simpletable\">\n",
       "<tr>\n",
       "  <th>Omnibus:</th>       <td>1869.363</td> <th>  Durbin-Watson:     </th> <td>   0.000</td> \n",
       "</tr>\n",
       "<tr>\n",
       "  <th>Prob(Omnibus):</th>  <td> 0.000</td>  <th>  Jarque-Bera (JB):  </th> <td>1323.967</td> \n",
       "</tr>\n",
       "<tr>\n",
       "  <th>Skew:</th>           <td>-0.346</td>  <th>  Prob(JB):          </th> <td>3.19e-288</td>\n",
       "</tr>\n",
       "<tr>\n",
       "  <th>Kurtosis:</th>       <td> 2.422</td>  <th>  Cond. No.          </th> <td>    93.8</td> \n",
       "</tr>\n",
       "</table><br/><br/>Notes:<br/>[1] Standard Errors assume that the covariance matrix of the errors is correctly specified."
      ],
      "text/plain": [
       "<class 'statsmodels.iolib.summary.Summary'>\n",
       "\"\"\"\n",
       "                            OLS Regression Results                            \n",
       "==============================================================================\n",
       "Dep. Variable:                      y   R-squared:                       0.943\n",
       "Model:                            OLS   Adj. R-squared:                  0.943\n",
       "Method:                 Least Squares   F-statistic:                 6.505e+05\n",
       "Date:                Mon, 11 Sep 2023   Prob (F-statistic):               0.00\n",
       "Time:                        23:41:49   Log-Likelihood:                -1683.1\n",
       "No. Observations:               39162   AIC:                             3370.\n",
       "Df Residuals:                   39160   BIC:                             3387.\n",
       "Df Model:                           1                                         \n",
       "Covariance Type:            nonrobust                                         \n",
       "==============================================================================\n",
       "                 coef    std err          t      P>|t|      [0.025      0.975]\n",
       "------------------------------------------------------------------------------\n",
       "const         10.4698      0.012    851.244      0.000      10.446      10.494\n",
       "x1            -1.0304      0.001   -806.546      0.000      -1.033      -1.028\n",
       "==============================================================================\n",
       "Omnibus:                     1869.363   Durbin-Watson:                   0.000\n",
       "Prob(Omnibus):                  0.000   Jarque-Bera (JB):             1323.967\n",
       "Skew:                          -0.346   Prob(JB):                    3.19e-288\n",
       "Kurtosis:                       2.422   Cond. No.                         93.8\n",
       "==============================================================================\n",
       "\n",
       "Notes:\n",
       "[1] Standard Errors assume that the covariance matrix of the errors is correctly specified.\n",
       "\"\"\""
      ]
     },
     "execution_count": 2,
     "metadata": {},
     "output_type": "execute_result"
    }
   ],
   "source": [
    "data = pd.read_csv('messages_edmunds.csv',index_col=0)\n",
    "data['message'] = data['message'].str.lower()\n",
    "\n",
    "texts = data['message'].str.cat(sep=' ').split()\n",
    "\n",
    "word_counts = Counter(texts)\n",
    "sorted_word_counts = sorted(word_counts.items(), key=lambda x: x[1], reverse=True)\n",
    "\n",
    "ranks = np.arange(1, len(sorted_word_counts) + 1)\n",
    "frequencies = [count for word, count in sorted_word_counts]\n",
    "\n",
    "# Log transformation\n",
    "log_ranks = np.log(ranks)\n",
    "log_frequencies = np.log(frequencies)\n",
    "\n",
    "# Linear regression\n",
    "model = sm.OLS(log_frequencies, sm.add_constant(log_ranks)).fit()\n",
    "model.summary()\n",
    "\n"
   ]
  },
  {
   "cell_type": "code",
   "execution_count": 3,
   "metadata": {},
   "outputs": [
    {
     "data": {
      "image/png": "[encoded data removed]",
      "text/plain": [
       "<Figure size 864x432 with 1 Axes>"
      ]
     },
     "metadata": {
      "needs_background": "light"
     },
     "output_type": "display_data"
    }
   ],
   "source": [
    "# Top 100 words\n",
    "top_ranks = ranks[:100]\n",
    "top_frequencies = frequencies[:100]\n",
    "\n",
    "# Theoretical prediction\n",
    "theoretical_frequencies = top_frequencies[0] / top_ranks\n",
    "\n",
    "plt.figure(figsize=(12, 6))\n",
    "plt.plot(top_ranks, top_frequencies, label=\"Actual\", marker='o')\n",
    "plt.plot(top_ranks, theoretical_frequencies, label=\"Theoretical (Zipf's)\", linestyle='--')\n",
    "plt.xlabel('Rank')\n",
    "plt.ylabel('Frequency')\n",
    "plt.legend()\n",
    "plt.show()"
   ]
  },
  {
   "cell_type": "markdown",
   "metadata": {
    "id": "Dq6lPMW8tLCb"
   },
   "source": [
    "**Task B: Find the top 10 brands from frequency counts. You will need to write a script to count the frequencies of words (stopwords should NOT be counted). Replace frequently occurring car models with brands so that from now on you have to deal with only brands and not models. You will need another script for this job. A list of model and brand names (not exhaustive) are provided in a separate file. Even if a brand (e.g., BMW) is mentioned multiple times in a message, it should be counted as 1.**"
   ]
  },
  {
   "cell_type": "code",
   "execution_count": 4,
   "metadata": {
    "colab": {
     "base_uri": "https://localhost:8080/",
     "height": 224
    },
    "executionInfo": {
     "elapsed": 138,
     "status": "ok",
     "timestamp": 1694388815951,
     "user": {
      "displayName": "Vanesa Alcantara",
      "userId": "00966359572197690684"
     },
     "user_tz": 300
    },
    "id": "xzNAF-pHvsSL",
    "outputId": "86fafec4-4971-4c12-b036-b5f579b49a6b"
   },
   "outputs": [
    {
     "name": "stdout",
     "output_type": "stream",
     "text": [
      "5029\n"
     ]
    },
    {
     "data": {
      "text/html": [
       "<div>\n",
       "<style scoped>\n",
       "    .dataframe tbody tr th:only-of-type {\n",
       "        vertical-align: middle;\n",
       "    }\n",
       "\n",
       "    .dataframe tbody tr th {\n",
       "        vertical-align: top;\n",
       "    }\n",
       "\n",
       "    .dataframe thead th {\n",
       "        text-align: right;\n",
       "    }\n",
       "</style>\n",
       "<table border=\"1\" class=\"dataframe\">\n",
       "  <thead>\n",
       "    <tr style=\"text-align: right;\">\n",
       "      <th></th>\n",
       "      <th>page</th>\n",
       "      <th>date</th>\n",
       "      <th>message</th>\n",
       "    </tr>\n",
       "  </thead>\n",
       "  <tbody>\n",
       "    <tr>\n",
       "      <th>0</th>\n",
       "      <td>435</td>\n",
       "      <td>2020-02-25 19:38:57+00:00</td>\n",
       "      <td>and, that's on top of any discount you negotia...</td>\n",
       "    </tr>\n",
       "    <tr>\n",
       "      <th>1</th>\n",
       "      <td>435</td>\n",
       "      <td>2020-02-25 19:41:26+00:00</td>\n",
       "      <td>add $350 to any lease on a kia if you are not ...</td>\n",
       "    </tr>\n",
       "    <tr>\n",
       "      <th>2</th>\n",
       "      <td>435</td>\n",
       "      <td>2020-02-25 19:44:12+00:00</td>\n",
       "      <td>did you hear about the key fob scam the dealer...</td>\n",
       "    </tr>\n",
       "    <tr>\n",
       "      <th>3</th>\n",
       "      <td>435</td>\n",
       "      <td>2020-02-25 19:47:21+00:00</td>\n",
       "      <td>that's a jaw-dropping lease incentive. amazing...</td>\n",
       "    </tr>\n",
       "    <tr>\n",
       "      <th>4</th>\n",
       "      <td>435</td>\n",
       "      <td>2020-02-25 19:50:32+00:00</td>\n",
       "      <td>i'm pretty sure that's the case with any capti...</td>\n",
       "    </tr>\n",
       "  </tbody>\n",
       "</table>\n",
       "</div>"
      ],
      "text/plain": [
       "   page                       date  \\\n",
       "0   435  2020-02-25 19:38:57+00:00   \n",
       "1   435  2020-02-25 19:41:26+00:00   \n",
       "2   435  2020-02-25 19:44:12+00:00   \n",
       "3   435  2020-02-25 19:47:21+00:00   \n",
       "4   435  2020-02-25 19:50:32+00:00   \n",
       "\n",
       "                                             message  \n",
       "0  and, that's on top of any discount you negotia...  \n",
       "1  add $350 to any lease on a kia if you are not ...  \n",
       "2  did you hear about the key fob scam the dealer...  \n",
       "3  that's a jaw-dropping lease incentive. amazing...  \n",
       "4  i'm pretty sure that's the case with any capti...  "
      ]
     },
     "execution_count": 4,
     "metadata": {},
     "output_type": "execute_result"
    }
   ],
   "source": [
    "total_csv = pd.read_csv('messages_edmunds.csv',index_col=0)\n",
    "total_csv = total_csv[~total_csv['message'].isnull()]\n",
    "print(len(total_csv))\n",
    "total_csv.head()"
   ]
  },
  {
   "cell_type": "code",
   "execution_count": 5,
   "metadata": {
    "colab": {
     "base_uri": "https://localhost:8080/"
    },
    "executionInfo": {
     "elapsed": 150,
     "status": "ok",
     "timestamp": 1694388817386,
     "user": {
      "displayName": "Vanesa Alcantara",
      "userId": "00966359572197690684"
     },
     "user_tz": 300
    },
    "id": "irZpMjfywFgH",
    "outputId": "d9c1e90f-e5e8-4070-ece1-ae6f5dc82f3f"
   },
   "outputs": [
    {
     "data": {
      "text/plain": [
       "array(['acura', 'audi', 'bmw', 'buick', 'cadillac', 'car', 'chevrolet',\n",
       "       'chrysler', 'dodge', 'ford', 'honda', 'hyndai kia', 'hyundai',\n",
       "       'hyundai,', 'hyundai.', 'infiniti', 'kia', 'kia,', 'kia.',\n",
       "       'lincoln', 'mazda', 'mercedes', 'mercedes benz', 'mercedes-benz',\n",
       "       'mercury', 'mitsubishi', 'nissan', 'nissan.', 'pontiac', 'problem',\n",
       "       'saturn', 'seat', 'sedan', 'subaru', 'suzuki', 'toyata', 'toyota',\n",
       "       'volkswagen', 'volkwagen', 'volvo'], dtype=object)"
      ]
     },
     "execution_count": 5,
     "metadata": {},
     "output_type": "execute_result"
    }
   ],
   "source": [
    "#fixing Brands names\n",
    "simils = pd.read_csv('car_models_and_brands.csv')\n",
    "simils['Brand'].unique()"
   ]
  },
  {
   "cell_type": "code",
   "execution_count": 6,
   "metadata": {
    "colab": {
     "base_uri": "https://localhost:8080/",
     "height": 206
    },
    "executionInfo": {
     "elapsed": 6325,
     "status": "ok",
     "timestamp": 1694388824630,
     "user": {
      "displayName": "Vanesa Alcantara",
      "userId": "00966359572197690684"
     },
     "user_tz": 300
    },
    "id": "jfMLvAAMwFcM",
    "outputId": "7cf0569f-797e-4c57-c47e-c22b6148973a"
   },
   "outputs": [
    {
     "data": {
      "text/html": [
       "<div>\n",
       "<style scoped>\n",
       "    .dataframe tbody tr th:only-of-type {\n",
       "        vertical-align: middle;\n",
       "    }\n",
       "\n",
       "    .dataframe tbody tr th {\n",
       "        vertical-align: top;\n",
       "    }\n",
       "\n",
       "    .dataframe thead th {\n",
       "        text-align: right;\n",
       "    }\n",
       "</style>\n",
       "<table border=\"1\" class=\"dataframe\">\n",
       "  <thead>\n",
       "    <tr style=\"text-align: right;\">\n",
       "      <th></th>\n",
       "      <th>page</th>\n",
       "      <th>date</th>\n",
       "      <th>message</th>\n",
       "    </tr>\n",
       "  </thead>\n",
       "  <tbody>\n",
       "    <tr>\n",
       "      <th>0</th>\n",
       "      <td>435</td>\n",
       "      <td>2020-02-25 19:38:57+00:00</td>\n",
       "      <td>and that on top of any discount you negotiate ...</td>\n",
       "    </tr>\n",
       "    <tr>\n",
       "      <th>1</th>\n",
       "      <td>435</td>\n",
       "      <td>2020-02-25 19:41:26+00:00</td>\n",
       "      <td>add $350 to any lease on a kia if you are not ...</td>\n",
       "    </tr>\n",
       "    <tr>\n",
       "      <th>2</th>\n",
       "      <td>435</td>\n",
       "      <td>2020-02-25 19:44:12+00:00</td>\n",
       "      <td>did you hear about the key fob scam the dealer...</td>\n",
       "    </tr>\n",
       "    <tr>\n",
       "      <th>3</th>\n",
       "      <td>435</td>\n",
       "      <td>2020-02-25 19:47:21+00:00</td>\n",
       "      <td>that a jawdropping lease incentive amazing dea...</td>\n",
       "    </tr>\n",
       "    <tr>\n",
       "      <th>4</th>\n",
       "      <td>435</td>\n",
       "      <td>2020-02-25 19:50:32+00:00</td>\n",
       "      <td>i'm pretty sure that the case with any captive...</td>\n",
       "    </tr>\n",
       "  </tbody>\n",
       "</table>\n",
       "</div>"
      ],
      "text/plain": [
       "   page                       date  \\\n",
       "0   435  2020-02-25 19:38:57+00:00   \n",
       "1   435  2020-02-25 19:41:26+00:00   \n",
       "2   435  2020-02-25 19:44:12+00:00   \n",
       "3   435  2020-02-25 19:47:21+00:00   \n",
       "4   435  2020-02-25 19:50:32+00:00   \n",
       "\n",
       "                                             message  \n",
       "0  and that on top of any discount you negotiate ...  \n",
       "1  add $350 to any lease on a kia if you are not ...  \n",
       "2  did you hear about the key fob scam the dealer...  \n",
       "3  that a jawdropping lease incentive amazing dea...  \n",
       "4  i'm pretty sure that the case with any captive...  "
      ]
     },
     "execution_count": 6,
     "metadata": {},
     "output_type": "execute_result"
    }
   ],
   "source": [
    "#fixing Brands names\n",
    "simils['Brand'].replace(to_replace=['hyundai,','hyundai.','kia,', 'kia.','mercedes benz', 'mercedes-benz','nissan.','toyata','volkwagen','hyndai kia'],value=['hyundai','hyundai','kia','kia','mercedes','mercedes','nissan','toyota','volkswagen','hyundai kia'],regex=True,inplace=True)\n",
    "total_csv['message'].replace(to_replace=['\\)','\\.','\\:','\\?','\\!','\\(','\\-','\\,','\\\"',\"'s\",\"'d\"],value='',regex=True,inplace=True)\n",
    "total_csv['message'].replace(to_replace=simils['Model'].values,value=simils['Brand'].values,regex=True,inplace=True)\n",
    "total_csv['message'].replace(to_replace=['toyotad','tchrysler','s4'],value=['toyota','chrysler','audi'],regex=True,inplace=True)\n",
    "#s4\n",
    "total_csv.head()"
   ]
  },
  {
   "cell_type": "code",
   "execution_count": 7,
   "metadata": {
    "colab": {
     "base_uri": "https://localhost:8080/",
     "height": 459
    },
    "executionInfo": {
     "elapsed": 200170,
     "status": "ok",
     "timestamp": 1694389024798,
     "user": {
      "displayName": "Vanesa Alcantara",
      "userId": "00966359572197690684"
     },
     "user_tz": 300
    },
    "id": "wAGASpgrwFU3",
    "outputId": "b0e541c4-99bb-4e84-bec7-c1fd0f374719"
   },
   "outputs": [
    {
     "name": "stderr",
     "output_type": "stream",
     "text": [
      "[nltk_data] Downloading package stopwords to\n",
      "[nltk_data]     /Users/vanesaalcantara/nltk_data...\n",
      "[nltk_data]   Package stopwords is already up-to-date!\n"
     ]
    },
    {
     "data": {
      "text/html": [
       "<div>\n",
       "<style scoped>\n",
       "    .dataframe tbody tr th:only-of-type {\n",
       "        vertical-align: middle;\n",
       "    }\n",
       "\n",
       "    .dataframe tbody tr th {\n",
       "        vertical-align: top;\n",
       "    }\n",
       "\n",
       "    .dataframe thead th {\n",
       "        text-align: right;\n",
       "    }\n",
       "</style>\n",
       "<table border=\"1\" class=\"dataframe\">\n",
       "  <thead>\n",
       "    <tr style=\"text-align: right;\">\n",
       "      <th></th>\n",
       "      <th>word</th>\n",
       "      <th>freq</th>\n",
       "    </tr>\n",
       "  </thead>\n",
       "  <tbody>\n",
       "    <tr>\n",
       "      <th>0</th>\n",
       "      <td>car</td>\n",
       "      <td>1761</td>\n",
       "    </tr>\n",
       "    <tr>\n",
       "      <th>1</th>\n",
       "      <td>like</td>\n",
       "      <td>1110</td>\n",
       "    </tr>\n",
       "    <tr>\n",
       "      <th>2</th>\n",
       "      <td>one</td>\n",
       "      <td>983</td>\n",
       "    </tr>\n",
       "    <tr>\n",
       "      <th>3</th>\n",
       "      <td>would</td>\n",
       "      <td>957</td>\n",
       "    </tr>\n",
       "    <tr>\n",
       "      <th>4</th>\n",
       "      <td></td>\n",
       "      <td>920</td>\n",
       "    </tr>\n",
       "    <tr>\n",
       "      <th>...</th>\n",
       "      <td>...</td>\n",
       "      <td>...</td>\n",
       "    </tr>\n",
       "    <tr>\n",
       "      <th>23862</th>\n",
       "      <td>screenthese</td>\n",
       "      <td>1</td>\n",
       "    </tr>\n",
       "    <tr>\n",
       "      <th>23863</th>\n",
       "      <td>joseph</td>\n",
       "      <td>1</td>\n",
       "    </tr>\n",
       "    <tr>\n",
       "      <th>23864</th>\n",
       "      <td>http//wwwcaranddrivercom/comparisons/2015audia...</td>\n",
       "      <td>1</td>\n",
       "    </tr>\n",
       "    <tr>\n",
       "      <th>23865</th>\n",
       "      <td>$45870</td>\n",
       "      <td>1</td>\n",
       "    </tr>\n",
       "    <tr>\n",
       "      <th>23866</th>\n",
       "      <td>ordersout</td>\n",
       "      <td>1</td>\n",
       "    </tr>\n",
       "  </tbody>\n",
       "</table>\n",
       "<p>23867 rows × 2 columns</p>\n",
       "</div>"
      ],
      "text/plain": [
       "                                                    word  freq\n",
       "0                                                    car  1761\n",
       "1                                                   like  1110\n",
       "2                                                    one   983\n",
       "3                                                  would   957\n",
       "4                                                          920\n",
       "...                                                  ...   ...\n",
       "23862                                        screenthese     1\n",
       "23863                                             joseph     1\n",
       "23864  http//wwwcaranddrivercom/comparisons/2015audia...     1\n",
       "23865                                             $45870     1\n",
       "23866                                          ordersout     1\n",
       "\n",
       "[23867 rows x 2 columns]"
      ]
     },
     "execution_count": 7,
     "metadata": {},
     "output_type": "execute_result"
    }
   ],
   "source": [
    "nltk.download('stopwords')\n",
    "stopwords_list = stopwords.words('english')\n",
    "\n",
    "def unique_list(df):\n",
    "    return list(set(df))\n",
    "\n",
    "def get_to_sort(tuplee):\n",
    "    return tuplee[-1]\n",
    "\n",
    "edmunds_words = list(np.concatenate(total_csv['message'].str.split(' ').apply(unique_list).values))\n",
    "words = set(edmunds_words)\n",
    "edmunds_counts = [(w, edmunds_words.count(w)) for w in words if w not in stopwords_list]\n",
    "edmunds_counts = sorted(edmunds_counts, key=get_to_sort, reverse=True)\n",
    "edmunds_counts = pd.DataFrame(edmunds_counts,columns=['word','freq'])\n",
    "edmunds_counts"
   ]
  },
  {
   "cell_type": "code",
   "execution_count": 8,
   "metadata": {
    "colab": {
     "base_uri": "https://localhost:8080/",
     "height": 394
    },
    "executionInfo": {
     "elapsed": 15,
     "status": "ok",
     "timestamp": 1694389024805,
     "user": {
      "displayName": "Vanesa Alcantara",
      "userId": "00966359572197690684"
     },
     "user_tz": 300
    },
    "id": "DR2o3Mc-wFGs",
    "outputId": "c68c73bd-7ae4-46d7-8ad7-5bd31455de13"
   },
   "outputs": [
    {
     "data": {
      "text/html": [
       "<div>\n",
       "<style scoped>\n",
       "    .dataframe tbody tr th:only-of-type {\n",
       "        vertical-align: middle;\n",
       "    }\n",
       "\n",
       "    .dataframe tbody tr th {\n",
       "        vertical-align: top;\n",
       "    }\n",
       "\n",
       "    .dataframe thead th {\n",
       "        text-align: right;\n",
       "    }\n",
       "</style>\n",
       "<table border=\"1\" class=\"dataframe\">\n",
       "  <thead>\n",
       "    <tr style=\"text-align: right;\">\n",
       "      <th></th>\n",
       "      <th>freq</th>\n",
       "    </tr>\n",
       "    <tr>\n",
       "      <th>word</th>\n",
       "      <th></th>\n",
       "    </tr>\n",
       "  </thead>\n",
       "  <tbody>\n",
       "    <tr>\n",
       "      <th>bmw</th>\n",
       "      <td>910</td>\n",
       "    </tr>\n",
       "    <tr>\n",
       "      <th>audi</th>\n",
       "      <td>836</td>\n",
       "    </tr>\n",
       "    <tr>\n",
       "      <th>acura</th>\n",
       "      <td>453</td>\n",
       "    </tr>\n",
       "    <tr>\n",
       "      <th>toyota</th>\n",
       "      <td>440</td>\n",
       "    </tr>\n",
       "    <tr>\n",
       "      <th>honda</th>\n",
       "      <td>381</td>\n",
       "    </tr>\n",
       "    <tr>\n",
       "      <th>chrysler</th>\n",
       "      <td>362</td>\n",
       "    </tr>\n",
       "    <tr>\n",
       "      <th>volkswagen</th>\n",
       "      <td>233</td>\n",
       "    </tr>\n",
       "    <tr>\n",
       "      <th>cadillac</th>\n",
       "      <td>187</td>\n",
       "    </tr>\n",
       "    <tr>\n",
       "      <th>hyundai</th>\n",
       "      <td>176</td>\n",
       "    </tr>\n",
       "    <tr>\n",
       "      <th>mercedes</th>\n",
       "      <td>152</td>\n",
       "    </tr>\n",
       "  </tbody>\n",
       "</table>\n",
       "</div>"
      ],
      "text/plain": [
       "            freq\n",
       "word            \n",
       "bmw          910\n",
       "audi         836\n",
       "acura        453\n",
       "toyota       440\n",
       "honda        381\n",
       "chrysler     362\n",
       "volkswagen   233\n",
       "cadillac     187\n",
       "hyundai      176\n",
       "mercedes     152"
      ]
     },
     "execution_count": 8,
     "metadata": {},
     "output_type": "execute_result"
    }
   ],
   "source": [
    "top10_car_brands = ['bmw','audi','acura','toyota','honda','chrysler','volkswagen','cadillac','hyundai','mercedes']\n",
    "matrix_names = edmunds_counts[edmunds_counts['word'].isin(top10_car_brands)]\n",
    "matrix_names = matrix_names.set_index('word')\n",
    "matrix_names\n"
   ]
  },
  {
   "cell_type": "markdown",
   "metadata": {
    "id": "Y-xjQA-ZtLfI"
   },
   "source": [
    "**Task C: Calculate lift ratios for associations between the top-10 brands identified in Task A. You will have to write a script to do this task). For lift calculations, be sure not to count a mention more than once per post, even if it is mentioned multiple times in the post. In your code, ensure that a message is not counted in the lift calculations if the mentions of two brands are separated by more than, say, 5 or 7 words.**"
   ]
  },
  {
   "cell_type": "code",
   "execution_count": 9,
   "metadata": {
    "id": "QkCM-f8AtNss"
   },
   "outputs": [],
   "source": [
    "def get_n_ab(lista):\n",
    "    word_distance = 15\n",
    "    sub_n_ab = 0\n",
    "    for i in range(0,len(lista)-word_distance):\n",
    "        sublista = lista[i:i+word_distance]\n",
    "        if (a in sublista) and (b in sublista):\n",
    "            sub_n_ab = 1\n",
    "            break\n",
    "    return sub_n_ab"
   ]
  },
  {
   "cell_type": "code",
   "execution_count": 10,
   "metadata": {
    "id": "9v-0-w6cxmMg"
   },
   "outputs": [],
   "source": [
    "matrix_lifts = pd.DataFrame(index=top10_car_brands ,columns=top10_car_brands)\n",
    "for i in range(len(top10_car_brands)):\n",
    "    for j in range(len(top10_car_brands)):\n",
    "        #if j>i:\n",
    "        a = top10_car_brands[i]\n",
    "        b = top10_car_brands[j]\n",
    "        n_ab = sum(total_csv['message'].str.lower().str.split(' ').apply(get_n_ab))\n",
    "        matrix_lifts.iloc[i,j] = (n_ab*len(total_csv))/(matrix_names.loc[a,'freq']*matrix_names.loc[b,'freq'])"
   ]
  },
  {
   "cell_type": "code",
   "execution_count": 11,
   "metadata": {
    "colab": {
     "base_uri": "https://localhost:8080/",
     "height": 363
    },
    "executionInfo": {
     "elapsed": 89,
     "status": "ok",
     "timestamp": 1694389768546,
     "user": {
      "displayName": "Vanesa Alcantara",
      "userId": "00966359572197690684"
     },
     "user_tz": 300
    },
    "id": "snlbP34Vh6mS",
    "outputId": "44912362-5580-4cf6-916e-2ea9c8dba10c"
   },
   "outputs": [
    {
     "data": {
      "text/html": [
       "<div>\n",
       "<style scoped>\n",
       "    .dataframe tbody tr th:only-of-type {\n",
       "        vertical-align: middle;\n",
       "    }\n",
       "\n",
       "    .dataframe tbody tr th {\n",
       "        vertical-align: top;\n",
       "    }\n",
       "\n",
       "    .dataframe thead th {\n",
       "        text-align: right;\n",
       "    }\n",
       "</style>\n",
       "<table border=\"1\" class=\"dataframe\">\n",
       "  <thead>\n",
       "    <tr style=\"text-align: right;\">\n",
       "      <th></th>\n",
       "      <th>bmw</th>\n",
       "      <th>audi</th>\n",
       "      <th>acura</th>\n",
       "      <th>toyota</th>\n",
       "      <th>honda</th>\n",
       "      <th>chrysler</th>\n",
       "      <th>volkswagen</th>\n",
       "      <th>cadillac</th>\n",
       "      <th>hyundai</th>\n",
       "      <th>mercedes</th>\n",
       "    </tr>\n",
       "  </thead>\n",
       "  <tbody>\n",
       "    <tr>\n",
       "      <th>bmw</th>\n",
       "      <td>NaN</td>\n",
       "      <td>1.163447</td>\n",
       "      <td>0.597776</td>\n",
       "      <td>0.439598</td>\n",
       "      <td>0.290098</td>\n",
       "      <td>0.290058</td>\n",
       "      <td>0.450648</td>\n",
       "      <td>1.182112</td>\n",
       "      <td>0.659397</td>\n",
       "      <td>2.835902</td>\n",
       "    </tr>\n",
       "    <tr>\n",
       "      <th>audi</th>\n",
       "      <td>NaN</td>\n",
       "      <td>NaN</td>\n",
       "      <td>1.062349</td>\n",
       "      <td>0.505853</td>\n",
       "      <td>0.442088</td>\n",
       "      <td>0.847495</td>\n",
       "      <td>1.729793</td>\n",
       "      <td>1.351086</td>\n",
       "      <td>0.581047</td>\n",
       "      <td>2.334983</td>\n",
       "    </tr>\n",
       "    <tr>\n",
       "      <th>acura</th>\n",
       "      <td>NaN</td>\n",
       "      <td>NaN</td>\n",
       "      <td>NaN</td>\n",
       "      <td>0.529846</td>\n",
       "      <td>2.360171</td>\n",
       "      <td>3.434732</td>\n",
       "      <td>0.333523</td>\n",
       "      <td>1.306064</td>\n",
       "      <td>0.441539</td>\n",
       "      <td>1.679839</td>\n",
       "    </tr>\n",
       "    <tr>\n",
       "      <th>toyota</th>\n",
       "      <td>NaN</td>\n",
       "      <td>NaN</td>\n",
       "      <td>NaN</td>\n",
       "      <td>NaN</td>\n",
       "      <td>1.199952</td>\n",
       "      <td>0.37888</td>\n",
       "      <td>0.932023</td>\n",
       "      <td>0.672326</td>\n",
       "      <td>1.363753</td>\n",
       "      <td>0.526361</td>\n",
       "    </tr>\n",
       "    <tr>\n",
       "      <th>honda</th>\n",
       "      <td>NaN</td>\n",
       "      <td>NaN</td>\n",
       "      <td>NaN</td>\n",
       "      <td>NaN</td>\n",
       "      <td>NaN</td>\n",
       "      <td>2.297146</td>\n",
       "      <td>0.736451</td>\n",
       "      <td>0.282342</td>\n",
       "      <td>0.974961</td>\n",
       "      <td>0.260516</td>\n",
       "    </tr>\n",
       "    <tr>\n",
       "      <th>chrysler</th>\n",
       "      <td>NaN</td>\n",
       "      <td>NaN</td>\n",
       "      <td>NaN</td>\n",
       "      <td>NaN</td>\n",
       "      <td>NaN</td>\n",
       "      <td>NaN</td>\n",
       "      <td>0.298117</td>\n",
       "      <td>0.371451</td>\n",
       "      <td>0.394667</td>\n",
       "      <td>0.274189</td>\n",
       "    </tr>\n",
       "    <tr>\n",
       "      <th>volkswagen</th>\n",
       "      <td>NaN</td>\n",
       "      <td>NaN</td>\n",
       "      <td>NaN</td>\n",
       "      <td>NaN</td>\n",
       "      <td>NaN</td>\n",
       "      <td>NaN</td>\n",
       "      <td>NaN</td>\n",
       "      <td>0.577104</td>\n",
       "      <td>0.490538</td>\n",
       "      <td>1.135984</td>\n",
       "    </tr>\n",
       "    <tr>\n",
       "      <th>cadillac</th>\n",
       "      <td>NaN</td>\n",
       "      <td>NaN</td>\n",
       "      <td>NaN</td>\n",
       "      <td>NaN</td>\n",
       "      <td>NaN</td>\n",
       "      <td>NaN</td>\n",
       "      <td>NaN</td>\n",
       "      <td>NaN</td>\n",
       "      <td>0.916808</td>\n",
       "      <td>3.715487</td>\n",
       "    </tr>\n",
       "    <tr>\n",
       "      <th>hyundai</th>\n",
       "      <td>NaN</td>\n",
       "      <td>NaN</td>\n",
       "      <td>NaN</td>\n",
       "      <td>NaN</td>\n",
       "      <td>NaN</td>\n",
       "      <td>NaN</td>\n",
       "      <td>NaN</td>\n",
       "      <td>NaN</td>\n",
       "      <td>NaN</td>\n",
       "      <td>0.751944</td>\n",
       "    </tr>\n",
       "    <tr>\n",
       "      <th>mercedes</th>\n",
       "      <td>NaN</td>\n",
       "      <td>NaN</td>\n",
       "      <td>NaN</td>\n",
       "      <td>NaN</td>\n",
       "      <td>NaN</td>\n",
       "      <td>NaN</td>\n",
       "      <td>NaN</td>\n",
       "      <td>NaN</td>\n",
       "      <td>NaN</td>\n",
       "      <td>NaN</td>\n",
       "    </tr>\n",
       "  </tbody>\n",
       "</table>\n",
       "</div>"
      ],
      "text/plain": [
       "            bmw      audi     acura    toyota     honda  chrysler volkswagen  \\\n",
       "bmw         NaN  1.163447  0.597776  0.439598  0.290098  0.290058   0.450648   \n",
       "audi        NaN       NaN  1.062349  0.505853  0.442088  0.847495   1.729793   \n",
       "acura       NaN       NaN       NaN  0.529846  2.360171  3.434732   0.333523   \n",
       "toyota      NaN       NaN       NaN       NaN  1.199952   0.37888   0.932023   \n",
       "honda       NaN       NaN       NaN       NaN       NaN  2.297146   0.736451   \n",
       "chrysler    NaN       NaN       NaN       NaN       NaN       NaN   0.298117   \n",
       "volkswagen  NaN       NaN       NaN       NaN       NaN       NaN        NaN   \n",
       "cadillac    NaN       NaN       NaN       NaN       NaN       NaN        NaN   \n",
       "hyundai     NaN       NaN       NaN       NaN       NaN       NaN        NaN   \n",
       "mercedes    NaN       NaN       NaN       NaN       NaN       NaN        NaN   \n",
       "\n",
       "            cadillac   hyundai  mercedes  \n",
       "bmw         1.182112  0.659397  2.835902  \n",
       "audi        1.351086  0.581047  2.334983  \n",
       "acura       1.306064  0.441539  1.679839  \n",
       "toyota      0.672326  1.363753  0.526361  \n",
       "honda       0.282342  0.974961  0.260516  \n",
       "chrysler    0.371451  0.394667  0.274189  \n",
       "volkswagen  0.577104  0.490538  1.135984  \n",
       "cadillac         NaN  0.916808  3.715487  \n",
       "hyundai          NaN       NaN  0.751944  \n",
       "mercedes         NaN       NaN       NaN  "
      ]
     },
     "execution_count": 11,
     "metadata": {},
     "output_type": "execute_result"
    }
   ],
   "source": [
    "half_m = pd.DataFrame(index=top10_car_brands ,columns=top10_car_brands)\n",
    "for i in range(len(top10_car_brands)):\n",
    "    for j in range(len(top10_car_brands)):\n",
    "        if j>i:\n",
    "            a = top10_car_brands[i]\n",
    "            b = top10_car_brands[j]\n",
    "            half_m.iloc[i,j] = matrix_lifts.iloc[i,j]\n",
    "\n",
    "half_m"
   ]
  },
  {
   "cell_type": "markdown",
   "metadata": {
    "id": "TS0o5S7btLkH"
   },
   "source": [
    "**Task D: Show the brands on a multi-dimensional scaling (MDS) map (use a Python script for MDS, there are multiple scripts available on GitHub). - top10?**"
   ]
  },
  {
   "cell_type": "code",
   "execution_count": 12,
   "metadata": {
    "id": "8xXh2xbbtOY8"
   },
   "outputs": [],
   "source": [
    "inv_matrix_lifts = matrix_lifts.applymap(lambda x: 1/x if pd.notna(x) and x != 0 else 0)\n"
   ]
  },
  {
   "cell_type": "code",
   "execution_count": 13,
   "metadata": {
    "colab": {
     "base_uri": "https://localhost:8080/",
     "height": 521
    },
    "executionInfo": {
     "elapsed": 381,
     "status": "ok",
     "timestamp": 1694389768869,
     "user": {
      "displayName": "Vanesa Alcantara",
      "userId": "00966359572197690684"
     },
     "user_tz": 300
    },
    "id": "LdjUeyozzxXW",
    "outputId": "983147df-421c-4059-f454-1fb9e0ac0354"
   },
   "outputs": [
    {
     "name": "stderr",
     "output_type": "stream",
     "text": [
      "/Users/vanesaalcantara/opt/anaconda3/lib/python3.8/site-packages/sklearn/manifold/_mds.py:601: UserWarning: The MDS API has changed. ``fit`` now constructs an dissimilarity matrix from data. To use a custom dissimilarity matrix, set ``dissimilarity='precomputed'``.\n",
      "  warnings.warn(\n",
      "/Users/vanesaalcantara/opt/anaconda3/lib/python3.8/site-packages/sklearn/manifold/_mds.py:299: FutureWarning: The default value of `normalized_stress` will change to `'auto'` in version 1.4. To suppress this warning, manually set the value of `normalized_stress`.\n",
      "  warnings.warn(\n"
     ]
    },
    {
     "data": {
      "image/png": "[encoded data removed]",
      "text/plain": [
       "<Figure size 432x288 with 1 Axes>"
      ]
     },
     "metadata": {
      "needs_background": "light"
     },
     "output_type": "display_data"
    }
   ],
   "source": [
    "mds = MDS(random_state=0)\n",
    "scaled_df = mds.fit_transform(inv_matrix_lifts)\n",
    "\n",
    "\n",
    "import matplotlib.pyplot as plt\n",
    "\n",
    "# create scatterplot\n",
    "plt.scatter(scaled_df[:,0], scaled_df[:,1])\n",
    "\n",
    "# add labels\n",
    "for i, txt in enumerate(inv_matrix_lifts.index):\n",
    "    plt.annotate(txt, (scaled_df[:,0][i]+.3, scaled_df[:,1][i]))\n",
    "\n",
    "# plot\n",
    "plt.show()"
   ]
  },
  {
   "cell_type": "markdown",
   "metadata": {
    "id": "EARFDG32tLnW"
   },
   "source": [
    "**Task E: What insights can you offer to your client from your analyses in Tasks C and D?**"
   ]
  },
  {
   "cell_type": "markdown",
   "metadata": {
    "id": "nLVqA4Q9GcXG"
   },
   "source": [
    "Insights:\n",
    "1. BMW, Mercedes, and Audi are closely related to each other. Customers tend to look at this three bands in a similar fashion. What is interesting here is that only for Mercedes we also have a bigger interaction with Cadillac, this is a reassurance for Mercedes that its brand can be considered as a competitor to \"young\" and \"sporty\" brands like Audi and bmw, but also close to a \"high luxury\" brand as Cadillac, making Mercedes a player on both sectors.\n",
    "2. Honda, Toyota, Volkswagen and Hyundai are usually not considered luxury brands as a whole, but we believe there is an overlap between entry level luxury brands and high-end non luxury\n",
    "3. We were expecting to have a big relation between Honda and Toyota since they are known to be competitors, but we found that when people talk about Honda, they also talk about Acura and Chrysler\n",
    "\n",
    "Reducing the distance between words to 7, Volkswagen appears far away from all brands. In other words, it is not compared to other luxury brand (bmw, mercedes, etc) but neither to the more affordable brands (toyota, hyundai, honda)."
   ]
  },
  {
   "cell_type": "markdown",
   "metadata": {
    "id": "QJUXYffBtLxI"
   },
   "source": [
    "**Task F: What are 5 most frequently mentioned attributes or features of cars in the discussions? Which attributes are most strongly associated with which of these 5 brands? There is no need to plot the MDS plot for this question.**\n"
   ]
  },
  {
   "cell_type": "code",
   "execution_count": 14,
   "metadata": {
    "colab": {
     "base_uri": "https://localhost:8080/",
     "height": 455
    },
    "executionInfo": {
     "elapsed": 22,
     "status": "ok",
     "timestamp": 1694389768872,
     "user": {
      "displayName": "Vanesa Alcantara",
      "userId": "00966359572197690684"
     },
     "user_tz": 300
    },
    "id": "O75cFmXbtPpE",
    "outputId": "bea2e812-25cf-475e-a8fd-7abb058bc5c4"
   },
   "outputs": [
    {
     "data": {
      "text/html": [
       "<div>\n",
       "<style scoped>\n",
       "    .dataframe tbody tr th:only-of-type {\n",
       "        vertical-align: middle;\n",
       "    }\n",
       "\n",
       "    .dataframe tbody tr th {\n",
       "        vertical-align: top;\n",
       "    }\n",
       "\n",
       "    .dataframe thead th {\n",
       "        text-align: right;\n",
       "    }\n",
       "</style>\n",
       "<table border=\"1\" class=\"dataframe\">\n",
       "  <thead>\n",
       "    <tr style=\"text-align: right;\">\n",
       "      <th></th>\n",
       "      <th>freq</th>\n",
       "    </tr>\n",
       "    <tr>\n",
       "      <th>word</th>\n",
       "      <th></th>\n",
       "    </tr>\n",
       "  </thead>\n",
       "  <tbody>\n",
       "    <tr>\n",
       "      <th>car</th>\n",
       "      <td>1761</td>\n",
       "    </tr>\n",
       "    <tr>\n",
       "      <th>like</th>\n",
       "      <td>1110</td>\n",
       "    </tr>\n",
       "    <tr>\n",
       "      <th>one</th>\n",
       "      <td>983</td>\n",
       "    </tr>\n",
       "    <tr>\n",
       "      <th>would</th>\n",
       "      <td>957</td>\n",
       "    </tr>\n",
       "    <tr>\n",
       "      <th></th>\n",
       "      <td>920</td>\n",
       "    </tr>\n",
       "    <tr>\n",
       "      <th>...</th>\n",
       "      <td>...</td>\n",
       "    </tr>\n",
       "    <tr>\n",
       "      <th>screenthese</th>\n",
       "      <td>1</td>\n",
       "    </tr>\n",
       "    <tr>\n",
       "      <th>joseph</th>\n",
       "      <td>1</td>\n",
       "    </tr>\n",
       "    <tr>\n",
       "      <th>http//wwwcaranddrivercom/comparisons/2015audiaudiaudivs2014bmw228hyundai14mercedesmercedescla2504maticcomparisontest</th>\n",
       "      <td>1</td>\n",
       "    </tr>\n",
       "    <tr>\n",
       "      <th>$45870</th>\n",
       "      <td>1</td>\n",
       "    </tr>\n",
       "    <tr>\n",
       "      <th>ordersout</th>\n",
       "      <td>1</td>\n",
       "    </tr>\n",
       "  </tbody>\n",
       "</table>\n",
       "<p>23867 rows × 1 columns</p>\n",
       "</div>"
      ],
      "text/plain": [
       "                                                    freq\n",
       "word                                                    \n",
       "car                                                 1761\n",
       "like                                                1110\n",
       "one                                                  983\n",
       "would                                                957\n",
       "                                                     920\n",
       "...                                                  ...\n",
       "screenthese                                            1\n",
       "joseph                                                 1\n",
       "http//wwwcaranddrivercom/comparisons/2015audiau...     1\n",
       "$45870                                                 1\n",
       "ordersout                                              1\n",
       "\n",
       "[23867 rows x 1 columns]"
      ]
     },
     "execution_count": 14,
     "metadata": {},
     "output_type": "execute_result"
    }
   ],
   "source": [
    "word_f = edmunds_counts.set_index(\"word\")\n",
    "word_f"
   ]
  },
  {
   "cell_type": "code",
   "execution_count": 15,
   "metadata": {
    "colab": {
     "base_uri": "https://localhost:8080/",
     "height": 363
    },
    "executionInfo": {
     "elapsed": 20808,
     "status": "ok",
     "timestamp": 1694389789663,
     "user": {
      "displayName": "Vanesa Alcantara",
      "userId": "00966359572197690684"
     },
     "user_tz": 300
    },
    "id": "4h6-TUwtGxCB",
    "outputId": "65ca3c30-4dba-49a5-a441-208bb7735d87"
   },
   "outputs": [
    {
     "data": {
      "text/html": [
       "<div>\n",
       "<style scoped>\n",
       "    .dataframe tbody tr th:only-of-type {\n",
       "        vertical-align: middle;\n",
       "    }\n",
       "\n",
       "    .dataframe tbody tr th {\n",
       "        vertical-align: top;\n",
       "    }\n",
       "\n",
       "    .dataframe thead th {\n",
       "        text-align: right;\n",
       "    }\n",
       "</style>\n",
       "<table border=\"1\" class=\"dataframe\">\n",
       "  <thead>\n",
       "    <tr style=\"text-align: right;\">\n",
       "      <th></th>\n",
       "      <th>price</th>\n",
       "      <th>dealer</th>\n",
       "      <th>sport</th>\n",
       "      <th>engine</th>\n",
       "      <th>performance</th>\n",
       "      <th>seat</th>\n",
       "      <th>luxury</th>\n",
       "      <th>looks</th>\n",
       "      <th>power</th>\n",
       "      <th>transmission</th>\n",
       "    </tr>\n",
       "  </thead>\n",
       "  <tbody>\n",
       "    <tr>\n",
       "      <th>bmw</th>\n",
       "      <td>0.713532</td>\n",
       "      <td>0.97348</td>\n",
       "      <td>1.34693</td>\n",
       "      <td>0.67106</td>\n",
       "      <td>0.642602</td>\n",
       "      <td>0.79956</td>\n",
       "      <td>0.591299</td>\n",
       "      <td>0.342109</td>\n",
       "      <td>0.517247</td>\n",
       "      <td>0.492798</td>\n",
       "    </tr>\n",
       "    <tr>\n",
       "      <th>audi</th>\n",
       "      <td>0.731004</td>\n",
       "      <td>0.961836</td>\n",
       "      <td>0.927128</td>\n",
       "      <td>0.773428</td>\n",
       "      <td>0.746115</td>\n",
       "      <td>0.998325</td>\n",
       "      <td>0.668394</td>\n",
       "      <td>0.773428</td>\n",
       "      <td>0.770465</td>\n",
       "      <td>1.226099</td>\n",
       "    </tr>\n",
       "    <tr>\n",
       "      <th>acura</th>\n",
       "      <td>0.590209</td>\n",
       "      <td>0.872479</td>\n",
       "      <td>0.318324</td>\n",
       "      <td>0.832616</td>\n",
       "      <td>0.516351</td>\n",
       "      <td>0.566887</td>\n",
       "      <td>0.959393</td>\n",
       "      <td>0.845832</td>\n",
       "      <td>0.437499</td>\n",
       "      <td>0.707105</td>\n",
       "    </tr>\n",
       "    <tr>\n",
       "      <th>toyota</th>\n",
       "      <td>0.376162</td>\n",
       "      <td>0.433641</td>\n",
       "      <td>0.778356</td>\n",
       "      <td>0.326558</td>\n",
       "      <td>0.664508</td>\n",
       "      <td>0.486364</td>\n",
       "      <td>0.282211</td>\n",
       "      <td>0.380985</td>\n",
       "      <td>0.394122</td>\n",
       "      <td>1.019195</td>\n",
       "    </tr>\n",
       "    <tr>\n",
       "      <th>honda</th>\n",
       "      <td>0.334164</td>\n",
       "      <td>0.679648</td>\n",
       "      <td>0.615029</td>\n",
       "      <td>0.612833</td>\n",
       "      <td>0.409286</td>\n",
       "      <td>0.449344</td>\n",
       "      <td>0.597507</td>\n",
       "      <td>0.314273</td>\n",
       "      <td>0.520176</td>\n",
       "      <td>0.420365</td>\n",
       "    </tr>\n",
       "    <tr>\n",
       "      <th>chrysler</th>\n",
       "      <td>0.562725</td>\n",
       "      <td>0.263539</td>\n",
       "      <td>0.398345</td>\n",
       "      <td>0.694613</td>\n",
       "      <td>0.376922</td>\n",
       "      <td>0.709392</td>\n",
       "      <td>0.743208</td>\n",
       "      <td>1.058458</td>\n",
       "      <td>0.821218</td>\n",
       "      <td>1.415772</td>\n",
       "    </tr>\n",
       "    <tr>\n",
       "      <th>volkswagen</th>\n",
       "      <td>0.163927</td>\n",
       "      <td>0.526431</td>\n",
       "      <td>0.077361</td>\n",
       "      <td>0.462508</td>\n",
       "      <td>0.334631</td>\n",
       "      <td>0.551073</td>\n",
       "      <td>0.266465</td>\n",
       "      <td>0.411118</td>\n",
       "      <td>0.425294</td>\n",
       "      <td>0.549903</td>\n",
       "    </tr>\n",
       "    <tr>\n",
       "      <th>cadillac</th>\n",
       "      <td>0.817004</td>\n",
       "      <td>1.238975</td>\n",
       "      <td>0.192782</td>\n",
       "      <td>0.096047</td>\n",
       "      <td>0.729656</td>\n",
       "      <td>0.114439</td>\n",
       "      <td>1.992078</td>\n",
       "      <td>0.384186</td>\n",
       "      <td>0.0</td>\n",
       "      <td>0.171293</td>\n",
       "    </tr>\n",
       "    <tr>\n",
       "      <th>hyundai</th>\n",
       "      <td>0.723389</td>\n",
       "      <td>1.006667</td>\n",
       "      <td>1.024153</td>\n",
       "      <td>0.408198</td>\n",
       "      <td>0.0</td>\n",
       "      <td>0.243182</td>\n",
       "      <td>1.411055</td>\n",
       "      <td>0.816396</td>\n",
       "      <td>0.422274</td>\n",
       "      <td>0.181999</td>\n",
       "    </tr>\n",
       "    <tr>\n",
       "      <th>mercedes</th>\n",
       "      <td>0.586326</td>\n",
       "      <td>0.896627</td>\n",
       "      <td>0.592931</td>\n",
       "      <td>0.236325</td>\n",
       "      <td>0.769431</td>\n",
       "      <td>0.422368</td>\n",
       "      <td>1.361544</td>\n",
       "      <td>0.630201</td>\n",
       "      <td>0.162983</td>\n",
       "      <td>0.421472</td>\n",
       "    </tr>\n",
       "  </tbody>\n",
       "</table>\n",
       "</div>"
      ],
      "text/plain": [
       "               price    dealer     sport    engine performance      seat  \\\n",
       "bmw         0.713532   0.97348   1.34693   0.67106    0.642602   0.79956   \n",
       "audi        0.731004  0.961836  0.927128  0.773428    0.746115  0.998325   \n",
       "acura       0.590209  0.872479  0.318324  0.832616    0.516351  0.566887   \n",
       "toyota      0.376162  0.433641  0.778356  0.326558    0.664508  0.486364   \n",
       "honda       0.334164  0.679648  0.615029  0.612833    0.409286  0.449344   \n",
       "chrysler    0.562725  0.263539  0.398345  0.694613    0.376922  0.709392   \n",
       "volkswagen  0.163927  0.526431  0.077361  0.462508    0.334631  0.551073   \n",
       "cadillac    0.817004  1.238975  0.192782  0.096047    0.729656  0.114439   \n",
       "hyundai     0.723389  1.006667  1.024153  0.408198         0.0  0.243182   \n",
       "mercedes    0.586326  0.896627  0.592931  0.236325    0.769431  0.422368   \n",
       "\n",
       "              luxury     looks     power transmission  \n",
       "bmw         0.591299  0.342109  0.517247     0.492798  \n",
       "audi        0.668394  0.773428  0.770465     1.226099  \n",
       "acura       0.959393  0.845832  0.437499     0.707105  \n",
       "toyota      0.282211  0.380985  0.394122     1.019195  \n",
       "honda       0.597507  0.314273  0.520176     0.420365  \n",
       "chrysler    0.743208  1.058458  0.821218     1.415772  \n",
       "volkswagen  0.266465  0.411118  0.425294     0.549903  \n",
       "cadillac    1.992078  0.384186       0.0     0.171293  \n",
       "hyundai     1.411055  0.816396  0.422274     0.181999  \n",
       "mercedes    1.361544  0.630201  0.162983     0.421472  "
      ]
     },
     "execution_count": 15,
     "metadata": {},
     "output_type": "execute_result"
    }
   ],
   "source": [
    "common_attributes = [\"price\",\"dealer\",\"sport\",\"engine\",\"performance\",\"seat\",\"luxury\",\"looks\",\"power\",\"transmission\"]\n",
    "\n",
    "# get the lift of each one to each one of the brands\n",
    "feature_lifts = pd.DataFrame(index=top10_car_brands ,columns=common_attributes)\n",
    "for i in range(len(top10_car_brands)):\n",
    "    for j in range(len(common_attributes)):\n",
    "        #if j>i:\n",
    "        a = top10_car_brands[i]\n",
    "        b = common_attributes[j]\n",
    "        n_ab = sum(total_csv['message'].str.lower().str.split(' ').apply(get_n_ab))\n",
    "        feature_lifts.iloc[i,j] = (n_ab*len(total_csv))/(matrix_names.loc[a,'freq']*word_f.loc[b].freq)\n",
    "\n",
    "feature_lifts"
   ]
  },
  {
   "cell_type": "code",
   "execution_count": 16,
   "metadata": {
    "colab": {
     "base_uri": "https://localhost:8080/",
     "height": 793
    },
    "executionInfo": {
     "elapsed": 1026,
     "status": "ok",
     "timestamp": 1694389790682,
     "user": {
      "displayName": "Vanesa Alcantara",
      "userId": "00966359572197690684"
     },
     "user_tz": 300
    },
    "id": "VVuKpfHZsE0e",
    "outputId": "68a1c3f4-fd73-4de4-f062-5a2374c65300"
   },
   "outputs": [
    {
     "data": {
      "image/png": "[encoded data removed]",
      "text/plain": [
       "<Figure size 720x576 with 2 Axes>"
      ]
     },
     "metadata": {
      "needs_background": "light"
     },
     "output_type": "display_data"
    }
   ],
   "source": [
    "\n",
    "# Create a heatmap using Seaborn\n",
    "\n",
    "feature_lifts = feature_lifts.astype(float)\n",
    "plt.figure(figsize=(10, 8))\n",
    "\n",
    "sns.heatmap(feature_lifts, annot=True, cmap=\"YlGnBu\", fmt=\".2f\")\n",
    "plt.xlabel(\"Car Features\")\n",
    "plt.ylabel(\"Car Brands\")\n",
    "plt.title(\"Heatmap of Values (Diagonal Dropped)\")\n",
    "plt.show()"
   ]
  },
  {
   "cell_type": "markdown",
   "metadata": {
    "id": "BDVKpvcwtmaf"
   },
   "source": [
    "**Task G: What advice will you give to your client from Task F?**\n",
    "\n"
   ]
  },
  {
   "cell_type": "markdown",
   "metadata": {
    "id": "RMovgMQeKCo7"
   },
   "source": [
    "### Insights:\n",
    "\n",
    "\n",
    "Seeing the table and the heatmap above we can compare the different brands and features between themselves. From the information, we got the following insights:\n",
    "\n",
    "2. Dealer and Dealership Reputation:\n",
    "- Cadillac is strongly correlated with the dealer experience. That means that when people are buying or seeing a Cadillac car in the dealer, they are having a really good experience.\n",
    "- Hyundai cars also have a significant relationship with dealerships.\n",
    "\n",
    "\n",
    "3. Sport and Performance:\n",
    "- It was kind of expected to see BMW related with sport but it was interesting to see that Hyundai also has a significant lift with sports.\n",
    "- The Top Sport brands are BMW, Hyundai and Audi.\n",
    "- We can expect that the top \"Sport\" brands are the same with better Performance, but in our analysis it is not the case. One reason could be that Sport is related to the external appearance of the car and Performance is related to efficiency on the road.\n",
    "- The Top Performance brand is Audi which is algo highly correlated with good engines. Followed by Mercedes and Toyota.\n",
    "\n",
    "\n",
    "4. Cadillac dominates in terms of Luxury:\n",
    "- Discussions about Luxury and branding are common for Cadillac compared to other brands. We can also highlight Mercedes and Hyundai. We didn't expect to have a significant lift between Hyundai and Luxury.\n",
    "\n",
    "\n",
    "5. Mechanic features:\n",
    "- Finally, other important features are Engine, Power and Transmission where Chrysler and Audi are the most popular brands in the forum. It is important to know that those three features are correlated.\n",
    "- For Audi, we can think that the relationship is related with the performance. On the other hand, we have an hypothesis regarding Chrysler and its reliability.\n",
    "\n",
    "6. Audi as the most balanced brand:\n",
    "- As we can see in the table, Audi is a good performer for each rubric. We can assume that this brand has been able to satisfy all market segments.\n",
    "\n",
    "\n",
    "### Advice\n",
    "\n",
    "\n",
    "Our recommendation for JD power and Associates is based on two different strategies:\n",
    "\n",
    "1. Hyundai is the brand that has the highest number of significant lifts. It has a significant lift with dealer, sport and luxury. Considering all features as positive we recommend JD power and Associates to consider including Hyundai in its portafolio.\n",
    "\n",
    "\n",
    "2. To develop a marketing strategy where they can highlight each brand's qualities.\n",
    "\n",
    "\n",
    "- Through Social Media segmentation, reach the clients that have most interest in some features and show them the brands aligned with their needs.\n",
    "- Create an Ads plan to show brands related to their top features.\n",
    "\n",
    "\n",
    "3. Create a walkthrough plan for the clients coming into the Dealership.\n",
    "\n",
    "\n",
    "- The first step should be to identify the client's needs in order to understand what features are important for them.\n",
    "- Go straight forward and show them cars of the brand that best achieve their needs.\n",
    "\n",
    "\n"
   ]
  },
  {
   "cell_type": "markdown",
   "metadata": {
    "id": "aZgihgnbtm1m"
   },
   "source": [
    "**Task H: Which is the most aspirational brand in your data in terms of people actually wanting to buy or own? Describe your analysis. What are the business implications for this brand?**\n",
    "\n",
    "* Real competition (brands?)\n",
    "* What people talk about?\n",
    "* Which associations are the strongest\n",
    "* Branding and marketing implications\n",
    "* Unexpected results and Aha moments"
   ]
  },
  {
   "cell_type": "code",
   "execution_count": 17,
   "metadata": {
    "colab": {
     "base_uri": "https://localhost:8080/",
     "height": 363
    },
    "executionInfo": {
     "elapsed": 3816,
     "status": "ok",
     "timestamp": 1694390260112,
     "user": {
      "displayName": "Vanesa Alcantara",
      "userId": "00966359572197690684"
     },
     "user_tz": 300
    },
    "id": "sPzqx8Mltm_b",
    "outputId": "1e05078c-6aa8-4e2a-b397-aeaa3e7df5bf"
   },
   "outputs": [
    {
     "data": {
      "text/html": [
       "<div>\n",
       "<style scoped>\n",
       "    .dataframe tbody tr th:only-of-type {\n",
       "        vertical-align: middle;\n",
       "    }\n",
       "\n",
       "    .dataframe tbody tr th {\n",
       "        vertical-align: top;\n",
       "    }\n",
       "\n",
       "    .dataframe thead th {\n",
       "        text-align: right;\n",
       "    }\n",
       "</style>\n",
       "<table border=\"1\" class=\"dataframe\">\n",
       "  <thead>\n",
       "    <tr style=\"text-align: right;\">\n",
       "      <th></th>\n",
       "      <th>buy</th>\n",
       "      <th>want</th>\n",
       "    </tr>\n",
       "  </thead>\n",
       "  <tbody>\n",
       "    <tr>\n",
       "      <th>bmw</th>\n",
       "      <td>0.473075</td>\n",
       "      <td>0.678677</td>\n",
       "    </tr>\n",
       "    <tr>\n",
       "      <th>audi</th>\n",
       "      <td>0.561763</td>\n",
       "      <td>0.542756</td>\n",
       "    </tr>\n",
       "    <tr>\n",
       "      <th>acura</th>\n",
       "      <td>0.38877</td>\n",
       "      <td>0.306058</td>\n",
       "    </tr>\n",
       "    <tr>\n",
       "      <th>toyota</th>\n",
       "      <td>0.489202</td>\n",
       "      <td>0.486973</td>\n",
       "    </tr>\n",
       "    <tr>\n",
       "      <th>honda</th>\n",
       "      <td>0.410879</td>\n",
       "      <td>0.430058</td>\n",
       "    </tr>\n",
       "    <tr>\n",
       "      <th>chrysler</th>\n",
       "      <td>0.432444</td>\n",
       "      <td>0.417812</td>\n",
       "    </tr>\n",
       "    <tr>\n",
       "      <th>volkswagen</th>\n",
       "      <td>0.419916</td>\n",
       "      <td>0.324567</td>\n",
       "    </tr>\n",
       "    <tr>\n",
       "      <th>cadillac</th>\n",
       "      <td>0.732495</td>\n",
       "      <td>0.337006</td>\n",
       "    </tr>\n",
       "    <tr>\n",
       "      <th>hyundai</th>\n",
       "      <td>0.333547</td>\n",
       "      <td>0.716137</td>\n",
       "    </tr>\n",
       "    <tr>\n",
       "      <th>mercedes</th>\n",
       "      <td>0.643687</td>\n",
       "      <td>0.663369</td>\n",
       "    </tr>\n",
       "  </tbody>\n",
       "</table>\n",
       "</div>"
      ],
      "text/plain": [
       "                 buy      want\n",
       "bmw         0.473075  0.678677\n",
       "audi        0.561763  0.542756\n",
       "acura        0.38877  0.306058\n",
       "toyota      0.489202  0.486973\n",
       "honda       0.410879  0.430058\n",
       "chrysler    0.432444  0.417812\n",
       "volkswagen  0.419916  0.324567\n",
       "cadillac    0.732495  0.337006\n",
       "hyundai     0.333547  0.716137\n",
       "mercedes    0.643687  0.663369"
      ]
     },
     "execution_count": 17,
     "metadata": {},
     "output_type": "execute_result"
    }
   ],
   "source": [
    "common_attributes = [\"buy\",\"want\"]\n",
    "\n",
    "# get the lift of each one to each one of the brands\n",
    "aspirational_lift_1 = pd.DataFrame(index=top10_car_brands ,columns=common_attributes)\n",
    "for i in range(len(top10_car_brands)):\n",
    "    for j in range(len(common_attributes)):\n",
    "        #if j>i:\n",
    "        a = top10_car_brands[i]\n",
    "        b = common_attributes[j]\n",
    "        n_ab = sum(total_csv['message'].str.lower().str.split(' ').apply(get_n_ab))\n",
    "        aspirational_lift_1.iloc[i,j] = (n_ab*len(total_csv))/(matrix_names.loc[a,'freq']*word_f.loc[b].freq)\n",
    "\n",
    "aspirational_lift_1"
   ]
  },
  {
   "cell_type": "code",
   "execution_count": 18,
   "metadata": {
    "colab": {
     "base_uri": "https://localhost:8080/",
     "height": 459
    },
    "executionInfo": {
     "elapsed": 148785,
     "status": "ok",
     "timestamp": 1694390408896,
     "user": {
      "displayName": "Vanesa Alcantara",
      "userId": "00966359572197690684"
     },
     "user_tz": 300
    },
    "id": "16cKbASjTjDW",
    "outputId": "6c74750d-54d8-416d-bbb3-eaf4058689f1"
   },
   "outputs": [
    {
     "name": "stderr",
     "output_type": "stream",
     "text": [
      "[nltk_data] Downloading package stopwords to\n",
      "[nltk_data]     /Users/vanesaalcantara/nltk_data...\n",
      "[nltk_data]   Package stopwords is already up-to-date!\n"
     ]
    },
    {
     "data": {
      "text/html": [
       "<div>\n",
       "<style scoped>\n",
       "    .dataframe tbody tr th:only-of-type {\n",
       "        vertical-align: middle;\n",
       "    }\n",
       "\n",
       "    .dataframe tbody tr th {\n",
       "        vertical-align: top;\n",
       "    }\n",
       "\n",
       "    .dataframe thead th {\n",
       "        text-align: right;\n",
       "    }\n",
       "</style>\n",
       "<table border=\"1\" class=\"dataframe\">\n",
       "  <thead>\n",
       "    <tr style=\"text-align: right;\">\n",
       "      <th></th>\n",
       "      <th>word</th>\n",
       "      <th>freq</th>\n",
       "    </tr>\n",
       "  </thead>\n",
       "  <tbody>\n",
       "    <tr>\n",
       "      <th>0</th>\n",
       "      <td>car</td>\n",
       "      <td>1761</td>\n",
       "    </tr>\n",
       "    <tr>\n",
       "      <th>1</th>\n",
       "      <td>like</td>\n",
       "      <td>1110</td>\n",
       "    </tr>\n",
       "    <tr>\n",
       "      <th>2</th>\n",
       "      <td>one</td>\n",
       "      <td>983</td>\n",
       "    </tr>\n",
       "    <tr>\n",
       "      <th>3</th>\n",
       "      <td>would</td>\n",
       "      <td>957</td>\n",
       "    </tr>\n",
       "    <tr>\n",
       "      <th>4</th>\n",
       "      <td></td>\n",
       "      <td>920</td>\n",
       "    </tr>\n",
       "    <tr>\n",
       "      <th>...</th>\n",
       "      <td>...</td>\n",
       "      <td>...</td>\n",
       "    </tr>\n",
       "    <tr>\n",
       "      <th>23860</th>\n",
       "      <td>screenthese</td>\n",
       "      <td>1</td>\n",
       "    </tr>\n",
       "    <tr>\n",
       "      <th>23861</th>\n",
       "      <td>joseph</td>\n",
       "      <td>1</td>\n",
       "    </tr>\n",
       "    <tr>\n",
       "      <th>23862</th>\n",
       "      <td>http//wwwcaranddrivercom/comparisons/2015audia...</td>\n",
       "      <td>1</td>\n",
       "    </tr>\n",
       "    <tr>\n",
       "      <th>23863</th>\n",
       "      <td>$45870</td>\n",
       "      <td>1</td>\n",
       "    </tr>\n",
       "    <tr>\n",
       "      <th>23864</th>\n",
       "      <td>ordersout</td>\n",
       "      <td>1</td>\n",
       "    </tr>\n",
       "  </tbody>\n",
       "</table>\n",
       "<p>23865 rows × 2 columns</p>\n",
       "</div>"
      ],
      "text/plain": [
       "                                                    word  freq\n",
       "0                                                    car  1761\n",
       "1                                                   like  1110\n",
       "2                                                    one   983\n",
       "3                                                  would   957\n",
       "4                                                          920\n",
       "...                                                  ...   ...\n",
       "23860                                        screenthese     1\n",
       "23861                                             joseph     1\n",
       "23862  http//wwwcaranddrivercom/comparisons/2015audia...     1\n",
       "23863                                             $45870     1\n",
       "23864                                          ordersout     1\n",
       "\n",
       "[23865 rows x 2 columns]"
      ]
     },
     "execution_count": 18,
     "metadata": {},
     "output_type": "execute_result"
    }
   ],
   "source": [
    "total_csv['message'].replace(to_replace=[\"dream to\",\"hope to\",\"wish\",\"desire\",\"dream of\"],value='aspirational',regex=True,inplace=True)\n",
    "nltk.download('stopwords')\n",
    "stopwords_list = stopwords.words('english')\n",
    "\n",
    "def unique_list(df):\n",
    "    return list(set(df))\n",
    "\n",
    "def get_to_sort(tuplee):\n",
    "    return tuplee[-1]\n",
    "\n",
    "aspire_words = list(np.concatenate(total_csv['message'].str.split(' ').apply(unique_list).values))\n",
    "words = set(aspire_words)\n",
    "aspire_words = [(w, aspire_words.count(w)) for w in words if w not in stopwords_list]\n",
    "aspire_words = sorted(aspire_words, key=get_to_sort, reverse=True)\n",
    "aspire_words = pd.DataFrame(aspire_words,columns=['word','freq'])\n",
    "aspire_words"
   ]
  },
  {
   "cell_type": "code",
   "execution_count": 19,
   "metadata": {
    "colab": {
     "base_uri": "https://localhost:8080/",
     "height": 363
    },
    "executionInfo": {
     "elapsed": 1923,
     "status": "ok",
     "timestamp": 1694390410815,
     "user": {
      "displayName": "Vanesa Alcantara",
      "userId": "00966359572197690684"
     },
     "user_tz": 300
    },
    "id": "F4LmBEMAsDq6",
    "outputId": "f33ca2b4-5349-4eb0-f214-15b5e39923d4"
   },
   "outputs": [
    {
     "data": {
      "text/html": [
       "<div>\n",
       "<style scoped>\n",
       "    .dataframe tbody tr th:only-of-type {\n",
       "        vertical-align: middle;\n",
       "    }\n",
       "\n",
       "    .dataframe tbody tr th {\n",
       "        vertical-align: top;\n",
       "    }\n",
       "\n",
       "    .dataframe thead th {\n",
       "        text-align: right;\n",
       "    }\n",
       "</style>\n",
       "<table border=\"1\" class=\"dataframe\">\n",
       "  <thead>\n",
       "    <tr style=\"text-align: right;\">\n",
       "      <th></th>\n",
       "      <th>aspirational</th>\n",
       "    </tr>\n",
       "  </thead>\n",
       "  <tbody>\n",
       "    <tr>\n",
       "      <th>bmw</th>\n",
       "      <td>13.263297</td>\n",
       "    </tr>\n",
       "    <tr>\n",
       "      <th>audi</th>\n",
       "      <td>9.62488</td>\n",
       "    </tr>\n",
       "    <tr>\n",
       "      <th>acura</th>\n",
       "      <td>8.881236</td>\n",
       "    </tr>\n",
       "    <tr>\n",
       "      <th>toyota</th>\n",
       "      <td>4.571818</td>\n",
       "    </tr>\n",
       "    <tr>\n",
       "      <th>honda</th>\n",
       "      <td>7.919685</td>\n",
       "    </tr>\n",
       "    <tr>\n",
       "      <th>chrysler</th>\n",
       "      <td>5.556906</td>\n",
       "    </tr>\n",
       "    <tr>\n",
       "      <th>volkswagen</th>\n",
       "      <td>0.0</td>\n",
       "    </tr>\n",
       "    <tr>\n",
       "      <th>cadillac</th>\n",
       "      <td>16.135829</td>\n",
       "    </tr>\n",
       "    <tr>\n",
       "      <th>hyundai</th>\n",
       "      <td>0.0</td>\n",
       "    </tr>\n",
       "    <tr>\n",
       "      <th>mercedes</th>\n",
       "      <td>13.234211</td>\n",
       "    </tr>\n",
       "  </tbody>\n",
       "</table>\n",
       "</div>"
      ],
      "text/plain": [
       "           aspirational\n",
       "bmw           13.263297\n",
       "audi            9.62488\n",
       "acura          8.881236\n",
       "toyota         4.571818\n",
       "honda          7.919685\n",
       "chrysler       5.556906\n",
       "volkswagen          0.0\n",
       "cadillac      16.135829\n",
       "hyundai             0.0\n",
       "mercedes      13.234211"
      ]
     },
     "execution_count": 19,
     "metadata": {},
     "output_type": "execute_result"
    }
   ],
   "source": [
    "common_attributes = [\"aspirational\"]\n",
    "\n",
    "aspirational_lift = pd.DataFrame(index=top10_car_brands ,columns=common_attributes)\n",
    "for i in range(len(top10_car_brands)):\n",
    "    for j in range(len(common_attributes)):\n",
    "        #if j>i:\n",
    "        a = top10_car_brands[i]\n",
    "        b = common_attributes[j]\n",
    "        n_ab = sum(total_csv['message'].str.lower().str.split(' ').apply(get_n_ab))\n",
    "        aspirational_lift.iloc[i,j] = (n_ab*len(total_csv))/(matrix_names.loc[a,'freq']*word_f.loc[b].freq)\n",
    "\n",
    "aspirational_lift"
   ]
  },
  {
   "cell_type": "markdown",
   "metadata": {
    "id": "s9fmGA3adOMc"
   },
   "source": [
    "**The most aspirational brand is Candillac. The above consider the phrases  {\"dream to\",\"hope to\",\"wish\",\"desire\",'dream of'} as indicadors of aspiration. We also wanted to understand the relation between words related to aspiration and related to buy so we did a deeper analysis.**"
   ]
  },
  {
   "cell_type": "code",
   "execution_count": 20,
   "metadata": {
    "colab": {
     "base_uri": "https://localhost:8080/"
    },
    "executionInfo": {
     "elapsed": 632,
     "status": "ok",
     "timestamp": 1694390411441,
     "user": {
      "displayName": "Vanesa Alcantara",
      "userId": "00966359572197690684"
     },
     "user_tz": 300
    },
    "id": "LSc94UuatI9W",
    "outputId": "17150009-14b3-4aad-829d-4b4d1131dbd2"
   },
   "outputs": [
    {
     "name": "stderr",
     "output_type": "stream",
     "text": [
      "[nltk_data] Downloading package stopwords to\n",
      "[nltk_data]     /Users/vanesaalcantara/nltk_data...\n",
      "[nltk_data]   Package stopwords is already up-to-date!\n"
     ]
    },
    {
     "name": "stdout",
     "output_type": "stream",
     "text": [
      "Lift between Aspirational and Acquisition: 1.6254444195818105\n",
      "Brand Lifts: {'bmw': 2.170679821180823, 'audi': 2.486060969215789, 'acura': 1.6366568047337278, 'toyota': 2.4714217459559076, 'honda': 2.4304470398711238, 'chrysler': 1.7763343799058084, 'volkswagen': 2.657721667645332, 'cadillac': 4.571818181818182, 'hyundai': 1.2379076923076924, 'mercedes': 4.625334448160535}\n"
     ]
    }
   ],
   "source": [
    "\n",
    "\n",
    "# Assuming total_csv is already loaded\n",
    "# total_csv = pd.read_csv('your_csv_file.csv')\n",
    "\n",
    "# Download stopwords\n",
    "nltk.download('stopwords')\n",
    "stopwords_list = stopwords.words('english')\n",
    "\n",
    "# Create new columns for tags and initialize with 0\n",
    "total_csv['aspirational_tag'] = 0\n",
    "total_csv['acquisition_tag'] = 0\n",
    "total_csv['both_tags'] = 0\n",
    "\n",
    "# Define the words for aspiration and acquisition\n",
    "aspiration_words = [\"dream to\", \"hope to\", \"wish\", \"desire\",'aspirational']\n",
    "acquisition_words = ['buy', 'own', 'acquire', 'get', 'switch']\n",
    "\n",
    "# Function to tag aspirational messages\n",
    "def tag_aspirational(text):\n",
    "    for aspire in aspiration_words:\n",
    "        if aspire in text:\n",
    "            return 1\n",
    "    return 0\n",
    "\n",
    "# Function to tag acquisition messages\n",
    "def tag_acquisition(text):\n",
    "    for acquire in acquisition_words:\n",
    "        if acquire in text:\n",
    "            return 1\n",
    "    return 0\n",
    "\n",
    "# Tagging the messages\n",
    "total_csv['aspirational_tag'] = total_csv['message'].apply(tag_aspirational)\n",
    "total_csv['acquisition_tag'] = total_csv['message'].apply(tag_acquisition)\n",
    "\n",
    "# Tagging messages that meet both conditions\n",
    "total_csv['both_tags'] = total_csv.apply(lambda row: 1 if row['aspirational_tag']==1 and row['acquisition_tag']==1 else 0, axis=1)\n",
    "\n",
    "# Now you can proceed to calculate the lift or any other metric for the messages that have both tags.\n",
    "\n",
    "# Count the occurrence of each tag\n",
    "count_both_tags = total_csv['both_tags'].sum()\n",
    "count_aspirational = total_csv['aspirational_tag'].sum()\n",
    "count_acquisition = total_csv['acquisition_tag'].sum()\n",
    "count_total = len(total_csv)\n",
    "\n",
    "# Calculate Lift\n",
    "if count_aspirational * count_acquisition == 0:\n",
    "    lift = 0\n",
    "else:\n",
    "    lift = (count_both_tags * count_total) / (count_aspirational * count_acquisition)\n",
    "\n",
    "# Your brands of interest\n",
    "brands = ['bmw','audi','acura','toyota','honda','chrysler','volkswagen','cadillac','hyundai','mercedes']  # Replace with your actual brands\n",
    "brand_lifts = {}\n",
    "\n",
    "for brand in brands:\n",
    "    count_brand = len(total_csv[total_csv['message'].str.contains(brand, case=False)])\n",
    "    count_both_and_brand = len(total_csv[(total_csv['both_tags'] == 1) & (total_csv['message'].str.contains(brand, case=False))])\n",
    "\n",
    "    if count_both_tags * count_brand == 0:\n",
    "        brand_lift = 0\n",
    "    else:\n",
    "        brand_lift = (count_both_and_brand * count_total) / (count_both_tags * count_brand)\n",
    "\n",
    "    brand_lifts[brand] = brand_lift\n",
    "\n",
    "print(\"Lift between Aspirational and Acquisition:\", lift)\n",
    "print(\"Brand Lifts:\", brand_lifts)\n"
   ]
  },
  {
   "cell_type": "code",
   "execution_count": 21,
   "metadata": {
    "colab": {
     "base_uri": "https://localhost:8080/"
    },
    "executionInfo": {
     "elapsed": 186,
     "status": "ok",
     "timestamp": 1694390411624,
     "user": {
      "displayName": "Vanesa Alcantara",
      "userId": "00966359572197690684"
     },
     "user_tz": 300
    },
    "id": "rAvKa0Oh4D1y",
    "outputId": "d03387cb-9c43-467c-b8aa-3d7d6feb7a2a"
   },
   "outputs": [
    {
     "name": "stdout",
     "output_type": "stream",
     "text": [
      "Total number of messages: 5029\n",
      "Number of aspirational messages: 109\n",
      "Number of acquisition messages: 1845\n",
      "Number of messages with both tags: 65\n"
     ]
    },
    {
     "data": {
      "image/png": "[encoded data removed]",
      "text/plain": [
       "<Figure size 864x432 with 1 Axes>"
      ]
     },
     "metadata": {
      "needs_background": "light"
     },
     "output_type": "display_data"
    }
   ],
   "source": [
    "# ... Previous code lines for imports, and other setup\n",
    "\n",
    "# Debug: Checking how many messages get tagged\n",
    "print(f\"Total number of messages: {len(total_csv)}\")\n",
    "print(f\"Number of aspirational messages: {total_csv['aspirational_tag'].sum()}\")\n",
    "print(f\"Number of acquisition messages: {total_csv['acquisition_tag'].sum()}\")\n",
    "print(f\"Number of messages with both tags: {total_csv['both_tags'].sum()}\")\n",
    "\n",
    "# ... Previous code lines for lift calculation\n",
    "\n",
    "# Debug: Checking the lift for\n",
    "import matplotlib.pyplot as plt\n",
    "\n",
    "# Assuming brand_lifts is your dictionary containing the lifts for each brand\n",
    "# Example: brand_lifts = {'bmw': 0.5, 'audi': 0.3, 'acura': 0.2, ...}\n",
    "\n",
    "# Extract brand names and their corresponding lift values\n",
    "brands = list(brand_lifts.keys())\n",
    "lift_values = list(brand_lifts.values())\n",
    "\n",
    "# Create a bar chart\n",
    "plt.figure(figsize=(12, 6))\n",
    "plt.barh(brands, lift_values, color='skyblue')\n",
    "plt.xlabel('Lift Value')\n",
    "plt.title('Brand Lifts for Aspirational and Acquisition Messages')\n",
    "plt.gca().invert_yaxis()  # Optionally invert Y-axis for better visibility\n",
    "\n",
    "# Annotate each bar with the actual lift value\n",
    "for index, value in enumerate(lift_values):\n",
    "    plt.text(value, index, str(round(value, 2)))\n",
    "\n",
    "plt.show()"
   ]
  },
  {
   "cell_type": "markdown",
   "metadata": {
    "id": "7V278a0InzMD"
   },
   "source": [
    "**Analysis:**\n",
    "**Real Competition (brands?):**\n",
    "\n",
    "Given the data, Mercedes' closest competitor in aspirational value is Cadillac, with Audi, Toyota, and Honda also showing strong lift scores.\n",
    "\n",
    "**What People Talk About?**\n",
    "\n",
    "People are discussing not only the desirability of these cars (\"dream to\", \"hope to\") but also the actual acquisition of them (\"buy\", \"own\"). This indicates a high degree of consumer interest that goes beyond mere admiration.\n",
    "\n",
    "**Which Associations Are the Strongest:**\n",
    "\n",
    "Brands like Mercedes and Cadillac are most strongly associated with both aspirational and acquisition-related terms, making them prime targets for those who don't just aspire to own a luxury vehicle but are also considering actually buying one. This also points to the fact that within this segment of luxury vehicles, these two brands are relatively much more liekly to be considered before the other brands mentioned.\n",
    "\n",
    "**Branding and Marketing Implications:**\n",
    "\n",
    "For Mercedes, this high level of aspiration and intent to purchase presents a golden opportunity to capitalize on this consumer sentiment through targeted marketing campaigns that speak to both the aspirational and practical aspects of owning a Mercedes.\n",
    "\n",
    "**Unexpected Results and Aha Moments:**\n",
    "\n",
    "One surprising result could be that brands traditionally considered more \"everyday\" or \"affordable\" like Toyota and Honda also have high lift scores. This might indicate that these brands offer models or features that are viewed as both aspirational and attainable.\n",
    "\n",
    "**Business Implications:**\n",
    "For Mercedes: The high lift score suggests an opportunity to leverage this aspiration in marketing messages. Special financing or features could be offered to make the \"dream\" more attainable. Customer retention should also be a focus, as people talking aspirationally about Mercedes are also considering acquisition.\n",
    "\n",
    "For Cadillac: Cadillac's high lift score reveals it has strong aspirational pull among consumers. However, Cadillac generally falls in the luxury segment, and many consumers who aspire to own it may currently be in non-luxury vehicles. Marketing strategies could aim to ease this transition, perhaps through trade-in incentives for non-luxury vehicles or payment plans that make it easier to move up to a Cadillac. Customer retention efforts should also be fortified to hold onto these aspirational customers once they make the leap.\n",
    "\n",
    "For Toyota: Despite being a mass-market brand, Toyota shows a high lift score, revealing it's aspired to and considered for acquisition. Toyota could leverage this by promoting its higher-end models or luxury features to tap into this aspirational consumer base. This could be particularly useful for models like the Avalon or the Lexus line, which offer luxury features at a more moderate price point.\n",
    "\n",
    "For Brands with Lower Lift Scores: There's a need to investigate why they're not as strongly associated with aspirational and acquisition terms. Strategies can then be developed to address this gap. This could include rebranding or introducing new aspirational yet attainable models.\n",
    "\n"
   ]
  }
 ],
 "metadata": {
  "colab": {
   "provenance": []
  },
  "kernelspec": {
   "display_name": "Python 3",
   "language": "python",
   "name": "python3"
  },
  "language_info": {
   "codemirror_mode": {
    "name": "ipython",
    "version": 3
   },
   "file_extension": ".py",
   "mimetype": "text/x-python",
   "name": "python",
   "nbconvert_exporter": "python",
   "pygments_lexer": "ipython3",
   "version": "3.8.5"
  }
 },
 "nbformat": 4,
 "nbformat_minor": 1
}
